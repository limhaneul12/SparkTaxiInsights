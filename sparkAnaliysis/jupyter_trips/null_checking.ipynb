{
 "cells": [
  {
   "cell_type": "code",
   "execution_count": 2,
   "metadata": {},
   "outputs": [],
   "source": [
    "import os\n",
    "import pandas as pd\n",
    "from pathlib import Path\n",
    "\n",
    "\n",
    "\n",
    "class FileLoadInParquet:\n",
    "    def __init__(self, year: int, taxi_type: str) -> None:\n",
    "        self.year = year\n",
    "        self.taxi_type = taxi_type\n",
    "    \n",
    "    def location(self) -> list[Path]:\n",
    "        return sorted(Path(os.getcwd()).parent.joinpath(f\"data/{self.taxi_type}/{self.year}\").glob(\"*\"))\n",
    "\n",
    "        "
   ]
  },
  {
   "cell_type": "code",
   "execution_count": 3,
   "metadata": {},
   "outputs": [],
   "source": [
    "a = FileLoadInParquet(2009, \"YellowTaxi\").location()"
   ]
  },
  {
   "cell_type": "code",
   "execution_count": 4,
   "metadata": {},
   "outputs": [
    {
     "name": "stdout",
     "output_type": "stream",
     "text": [
      "         vendor_name Trip_Pickup_DateTime Trip_Dropoff_DateTime  \\\n",
      "0                VTS  2009-12-17 07:35:00   2009-12-17 07:40:00   \n",
      "1                VTS  2009-12-21 14:19:00   2009-12-21 14:24:00   \n",
      "2                VTS  2009-12-18 03:09:00   2009-12-18 03:34:00   \n",
      "3                VTS  2009-12-14 21:24:00   2009-12-14 21:33:00   \n",
      "4                VTS  2009-12-18 08:17:00   2009-12-18 08:29:00   \n",
      "...              ...                  ...                   ...   \n",
      "14583399         VTS  2009-12-26 14:06:00   2009-12-26 14:13:00   \n",
      "14583400         VTS  2009-12-26 21:40:00   2009-12-26 21:59:00   \n",
      "14583401         VTS  2009-12-05 11:13:00   2009-12-05 11:16:00   \n",
      "14583402         VTS  2009-12-26 18:48:00   2009-12-26 18:52:00   \n",
      "14583403         VTS  2009-12-26 16:15:00   2009-12-26 16:26:00   \n",
      "\n",
      "          Passenger_Count  Trip_Distance  Start_Lon  Start_Lat  Rate_Code  \\\n",
      "0                       1           0.11 -73.987928  40.737885        NaN   \n",
      "1                       1           1.07 -73.956008  40.779558        NaN   \n",
      "2                       1           8.98 -73.955745  40.689503        NaN   \n",
      "3                       2           1.66 -73.983985  40.754645        NaN   \n",
      "4                       1           1.55 -73.959132  40.769265        NaN   \n",
      "...                   ...            ...        ...        ...        ...   \n",
      "14583399                1           0.95 -73.979943  40.775545        NaN   \n",
      "14583400                5           6.97 -74.017145  40.705885        NaN   \n",
      "14583401                1           0.88 -73.975970  40.752222        NaN   \n",
      "14583402                5           0.65 -73.955460  40.779757        NaN   \n",
      "14583403                1           1.54 -73.978990  40.764067        NaN   \n",
      "\n",
      "          store_and_forward    End_Lon    End_Lat Payment_Type  Fare_Amt  \\\n",
      "0                       NaN -73.990335  40.748450       Credit       4.9   \n",
      "1                       NaN -73.967303  40.787833         CASH       4.9   \n",
      "2                       NaN -73.937730  40.737463         CASH      23.7   \n",
      "3                       NaN -73.986195  40.737610       Credit       6.9   \n",
      "4                       NaN -73.976267  40.760615         CASH       7.7   \n",
      "...                     ...        ...        ...          ...       ...   \n",
      "14583399                NaN -73.979182  40.765658         CASH       5.7   \n",
      "14583400                NaN -73.971427  40.782797         CASH      18.5   \n",
      "14583401                NaN -73.966812  40.763617         CASH       4.5   \n",
      "14583402                NaN -73.950940  40.775177         CASH       4.5   \n",
      "14583403                NaN -73.989483  40.752130         CASH       7.7   \n",
      "\n",
      "          surcharge  mta_tax  Tip_Amt  Tolls_Amt  Total_Amt Rate_code  \n",
      "0               0.0      0.5      1.0        0.0        6.4       nan  \n",
      "1               0.0      0.5      0.0        0.0        5.4       nan  \n",
      "2               0.5      0.5      0.0        0.0       24.7       nan  \n",
      "3               0.5      0.5      3.0        0.0       10.9       nan  \n",
      "4               0.0      0.5      0.0        0.0        8.2       nan  \n",
      "...             ...      ...      ...        ...        ...       ...  \n",
      "14583399        0.0      0.5      0.0        0.0        6.2       nan  \n",
      "14583400        0.5      0.5      0.0        0.0       19.5       nan  \n",
      "14583401        0.0      0.5      0.0        0.0        5.0       nan  \n",
      "14583402        0.0      0.5      0.0        0.0        5.0       nan  \n",
      "14583403        0.0      0.5      0.0        0.0        8.2       nan  \n",
      "\n",
      "[14583404 rows x 19 columns]\n"
     ]
    }
   ],
   "source": [
    "\n",
    "count = 0\n",
    "for data in a:\n",
    "    dd = pd.read_parquet(data)\n",
    "    dd[\"Rate_code\"] = dd[\"Rate_Code\"].astype(str)\n",
    "    count += 1\n",
    "    \n",
    "    dd.to_parquet(data, index=False, engine=\"pyarrow\")\n",
    "    print(count)\n",
    "print(dd)"
   ]
  },
  {
   "cell_type": "code",
   "execution_count": null,
   "metadata": {},
   "outputs": [],
   "source": []
  },
  {
   "cell_type": "code",
   "execution_count": null,
   "metadata": {},
   "outputs": [],
   "source": []
  }
 ],
 "metadata": {
  "kernelspec": {
   "display_name": "spark-kafka-distribute-2w72GDIg-py3.11",
   "language": "python",
   "name": "python3"
  },
  "language_info": {
   "codemirror_mode": {
    "name": "ipython",
    "version": 3
   },
   "file_extension": ".py",
   "mimetype": "text/x-python",
   "name": "python",
   "nbconvert_exporter": "python",
   "pygments_lexer": "ipython3",
   "version": "3.11.9"
  }
 },
 "nbformat": 4,
 "nbformat_minor": 2
}
