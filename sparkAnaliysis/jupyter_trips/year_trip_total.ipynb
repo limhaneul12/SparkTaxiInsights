{
 "cells": [
  {
   "cell_type": "code",
   "execution_count": null,
   "metadata": {},
   "outputs": [],
   "source": [
    "import os\n",
    "import pandas as pd\n",
    "from pathlib import Path\n",
    "\n",
    "def file_all() -> list[str]:\n",
    "    return sorted(\n",
    "        list(Path(os.getcwd()).joinpath(f\"datetime_prepro\").glob(\"*\"))\n",
    "    )\n",
    "\n",
    "def read_csv_data():\n",
    "    # 모든 파케이 파일 경로\n",
    "    return [pd.read_csv(data) for data in file_all()]\n",
    "\n",
    "read_csv_data()"
   ]
  },
  {
   "cell_type": "code",
   "execution_count": null,
   "metadata": {},
   "outputs": [],
   "source": [
    "data_frame = []\n",
    "for data in read_csv_data():\n",
    "    trip_count = data[\"trip_count\"].sum()\n",
    "    year = pd.to_datetime(data.iloc[0][\"pickup\"]).year\n",
    "    total = {\"year\": [year], \"trip\": [trip_count]}\n",
    "    \n",
    "    data_frame.append(pd.DataFrame(total))\n",
    "\n",
    "dd = pd.concat(data_frame, ignore_index=True)"
   ]
  },
  {
   "cell_type": "code",
   "execution_count": null,
   "metadata": {},
   "outputs": [],
   "source": [
    "import matplotlib.pyplot as plt\n",
    "\n",
    "dd.plot(kind='bar', x='year', y='trip', color='skyblue', legend=False)\n",
    "plt.xlabel('Year')\n",
    "plt.ylabel('Total Trip Count')\n",
    "plt.title('Total Trip Count by Year')\n",
    "plt.xticks(rotation=0)\n",
    "plt.grid(axis='y', linestyle='--', alpha=0.7)\n",
    "plt.gca().get_yaxis().get_major_formatter().set_scientific(False)\n",
    "plt.show()"
   ]
  },
  {
   "cell_type": "code",
   "execution_count": 1,
   "metadata": {},
   "outputs": [
    {
     "ename": "NameError",
     "evalue": "name 'spark' is not defined",
     "output_type": "error",
     "traceback": [
      "\u001b[0;31m---------------------------------------------------------------------------\u001b[0m",
      "\u001b[0;31mNameError\u001b[0m                                 Traceback (most recent call last)",
      "\u001b[1;32m/Users/imhaneul/Documents/project/spark-kafka-distribute/sparkAnaliysis/jupyter_trips/year_trip_total.ipynb 셀 4\u001b[0m line \u001b[0;36m1\n\u001b[0;32m----> <a href='vscode-notebook-cell:/Users/imhaneul/Documents/project/spark-kafka-distribute/sparkAnaliysis/jupyter_trips/year_trip_total.ipynb#W3sZmlsZQ%3D%3D?line=0'>1</a>\u001b[0m spark\u001b[39m.\u001b[39mstop()\n",
      "\u001b[0;31mNameError\u001b[0m: name 'spark' is not defined"
     ]
    }
   ],
   "source": [
    "spark.stop()"
   ]
  },
  {
   "cell_type": "code",
   "execution_count": null,
   "metadata": {},
   "outputs": [],
   "source": []
  },
  {
   "cell_type": "code",
   "execution_count": null,
   "metadata": {},
   "outputs": [],
   "source": [
    "\n"
   ]
  },
  {
   "cell_type": "code",
   "execution_count": null,
   "metadata": {},
   "outputs": [],
   "source": []
  }
 ],
 "metadata": {
  "kernelspec": {
   "display_name": ".venv",
   "language": "python",
   "name": "python3"
  },
  "language_info": {
   "codemirror_mode": {
    "name": "ipython",
    "version": 3
   },
   "file_extension": ".py",
   "mimetype": "text/x-python",
   "name": "python",
   "nbconvert_exporter": "python",
   "pygments_lexer": "ipython3",
   "version": "3.11.9"
  }
 },
 "nbformat": 4,
 "nbformat_minor": 2
}
