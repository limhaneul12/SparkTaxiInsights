{
 "cells": [
  {
   "cell_type": "code",
   "execution_count": 25,
   "metadata": {},
   "outputs": [],
   "source": [
    "from pathlib import Path\n",
    "\n",
    "from pyspark.sql.session import SparkSession\n",
    "from pyspark.sql import DataFrame\n",
    "\n",
    "MAX_MEMORY = \"5g\"\n",
    "spark = (\n",
    "    SparkSession.builder.master(\"local[*]\")\n",
    "    .appName(\"TripAnaliysis\")\n",
    "    .config(\"spark.sql.adaptive.enabled\", \"true\")\n",
    "    .config(\"spark.excutor.memory\", MAX_MEMORY)\n",
    "    .config(\"spark.driver.memory\", MAX_MEMORY)\n",
    "    .getOrCreate()\n",
    ")"
   ]
  },
  {
   "cell_type": "code",
   "execution_count": 26,
   "metadata": {},
   "outputs": [],
   "source": [
    "import os\n",
    "from pathlib import Path\n",
    "from pyspark.sql import DataFrame\n",
    "from pyspark.sql.session import SparkSession\n",
    "\n",
    "\n",
    "class FileLoadInParquet:\n",
    "    def __init__(self, year: int, taxi_type: str) -> None:\n",
    "        self.year = year\n",
    "        self.taxi_type = taxi_type\n",
    "    \n",
    "    def location(self) -> list[str]:\n",
    "        return str(Path(os.getcwd()).parent.joinpath(f\"data/{self.taxi_type}\"))\n",
    "\n",
    "    def read_parquet_data(self, spark: SparkSession) -> DataFrame:\n",
    "        # 파케이 파일 경로\n",
    "        data: str = self.location()\n",
    "        return spark.read.parquet(f\"file:///{data}/*\")"
   ]
  },
  {
   "cell_type": "code",
   "execution_count": 27,
   "metadata": {},
   "outputs": [],
   "source": [
    "from pyspark.sql.functions import col \n",
    "from pyspark.sql import functions as F"
   ]
  },
  {
   "cell_type": "code",
   "execution_count": 28,
   "metadata": {},
   "outputs": [
    {
     "name": "stderr",
     "output_type": "stream",
     "text": [
      "                                                                                \r"
     ]
    }
   ],
   "source": [
    "data = FileLoadInParquet(2019, \"YellowTaxi\").read_parquet_data(spark)"
   ]
  },
  {
   "cell_type": "code",
   "execution_count": 29,
   "metadata": {},
   "outputs": [
    {
     "data": {
      "text/plain": [
       "['vendor_name',\n",
       " 'Trip_Pickup_DateTime',\n",
       " 'Trip_Dropoff_DateTime',\n",
       " 'Passenger_Count',\n",
       " 'Trip_Distance',\n",
       " 'Start_Lon',\n",
       " 'Start_Lat',\n",
       " 'Rate_Code',\n",
       " 'store_and_forward',\n",
       " 'End_Lon',\n",
       " 'End_Lat',\n",
       " 'Payment_Type',\n",
       " 'Fare_Amt',\n",
       " 'surcharge',\n",
       " 'mta_tax',\n",
       " 'Tip_Amt',\n",
       " 'Tolls_Amt',\n",
       " 'Total_Amt']"
      ]
     },
     "execution_count": 29,
     "metadata": {},
     "output_type": "execute_result"
    }
   ],
   "source": [
    "data.columns"
   ]
  },
  {
   "cell_type": "code",
   "execution_count": 123,
   "metadata": {},
   "outputs": [],
   "source": [
    "from pyspark.sql.types import IntegerType\n",
    "\n",
    "def month_classification(name: str) -> DataFrame:\n",
    "    return F.split(col(name), \" \", )[0].alias(\"datetime\")\n",
    "    \n",
    "from pyspark.sql.functions import lit \n",
    "col_name = \"Trip_Pickup_DateTime\"\n",
    "null_check = data.na.fill(\"NA\").withColumn(\n",
    "    \"year\", \n",
    "    F.when(col(col_name) == lit(\"NA\"), \"NA\").otherwise(F.year(month_classification(col_name)).cast(IntegerType()))\n",
    ").withColumn(\n",
    "    \"month\", \n",
    "    F.when(col(col_name) == lit(\"NA\"), \"NA\").otherwise(F.month(month_classification(col_name)).cast(IntegerType()))\n",
    ").withColumn(\n",
    "    \"day\",\n",
    "    F.when(col(col_name) == lit(\"NA\"), \"NA\").otherwise(F.dayofweek(month_classification(col_name)).cast(IntegerType()))\n",
    ").select(\n",
    "    col(\"Trip_Pickup_DateTime\"),\n",
    "    col(\"year\"),\n",
    "    col(\"month\"),\n",
    "    col(\"day\")\n",
    ").groupBy(col(\"month\"), col(\"day\")).agg(F.count(\"*\").alias(\"count\")).cache()"
   ]
  },
  {
   "cell_type": "code",
   "execution_count": 124,
   "metadata": {},
   "outputs": [],
   "source": [
    "na_delect = null_check.filter(col(\"month\") != \"NA\")"
   ]
  },
  {
   "cell_type": "code",
   "execution_count": 125,
   "metadata": {},
   "outputs": [
    {
     "name": "stderr",
     "output_type": "stream",
     "text": [
      "                                                                                \r"
     ]
    }
   ],
   "source": [
    "data_saving = na_delect.orderBy(F.asc(\"month\"), F.asc(\"day\")).toPandas().to_csv(\"2019_null_checking.csv\", index=False, index_label=False)"
   ]
  },
  {
   "cell_type": "code",
   "execution_count": 126,
   "metadata": {},
   "outputs": [],
   "source": [
    "spark.stop()"
   ]
  },
  {
   "cell_type": "code",
   "execution_count": null,
   "metadata": {},
   "outputs": [],
   "source": []
  }
 ],
 "metadata": {
  "kernelspec": {
   "display_name": "spark-kafka-distribute-2w72GDIg-py3.11",
   "language": "python",
   "name": "python3"
  },
  "language_info": {
   "codemirror_mode": {
    "name": "ipython",
    "version": 3
   },
   "file_extension": ".py",
   "mimetype": "text/x-python",
   "name": "python",
   "nbconvert_exporter": "python",
   "pygments_lexer": "ipython3",
   "version": "3.11.9"
  }
 },
 "nbformat": 4,
 "nbformat_minor": 2
}
